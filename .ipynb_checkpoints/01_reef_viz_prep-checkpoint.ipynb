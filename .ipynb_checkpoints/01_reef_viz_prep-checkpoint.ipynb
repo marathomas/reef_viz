{
 "cells": [
  {
   "cell_type": "code",
   "execution_count": 1,
   "metadata": {},
   "outputs": [],
   "source": [
    "import pandas as pd\n",
    "import numpy as np\n",
    "import pickle\n",
    "import matplotlib.pyplot as plt\n",
    "import matplotlib\n",
    "import plotly.graph_objs as go\n",
    "import plotly\n",
    "import os\n",
    "import seaborn as sns\n",
    "from plotly.graph_objs import *\n",
    "from ipywidgets import Image, HTML, Layout, Output, VBox, HBox\n",
    "from IPython.display import Audio, display\n",
    "import io\n",
    "import librosa\n",
    "import librosa.display\n",
    "import matplotlib.pyplot as plt"
   ]
  },
  {
   "cell_type": "code",
   "execution_count": 6,
   "metadata": {},
   "outputs": [],
   "source": [
    "DATA_FOLDER = 'data/'"
   ]
  },
  {
   "cell_type": "code",
   "execution_count": 11,
   "metadata": {},
   "outputs": [],
   "source": [
    "df_list = []\n",
    "for v in [1,2]:\n",
    "    df_list.append(pd.read_json(DATA_FOLDER+'rando_red_partial_'+str(v)+'.json', orient ='split', compression = 'infer'))\n",
    "\n",
    "spec_df = pd.concat(df_list)"
   ]
  },
  {
   "cell_type": "code",
   "execution_count": 12,
   "metadata": {},
   "outputs": [
    {
     "data": {
      "text/plain": [
       "(4038, 6)"
      ]
     },
     "execution_count": 12,
     "metadata": {},
     "output_type": "execute_result"
    }
   ],
   "source": [
    "#spec_df.shape"
   ]
  },
  {
   "cell_type": "code",
   "execution_count": 7,
   "metadata": {},
   "outputs": [],
   "source": [
    "#spec_df = pd.read_json(DATA_FOLDER+'rando_red.json', orient ='split', compression = 'infer')"
   ]
  },
  {
   "cell_type": "code",
   "execution_count": 9,
   "metadata": {},
   "outputs": [],
   "source": [
    "#spec_df[:2000].to_json(DATA_FOLDER+'rando_red_partial_1.json', orient = 'split', compression = 'infer', index = 'true') "
   ]
  },
  {
   "cell_type": "code",
   "execution_count": 10,
   "metadata": {},
   "outputs": [],
   "source": [
    "#spec_df[2000:].to_json(DATA_FOLDER+'rando_red_partial_2.json', orient = 'split', compression = 'infer', index = 'true') "
   ]
  },
  {
   "cell_type": "code",
   "execution_count": null,
   "metadata": {},
   "outputs": [],
   "source": [
    "SR = 6000\n",
    "FFT_WIN = 0.03 # FFT_WIN*samplerate = length of fft/n_fft (number of audio frames that go in one fft)\n",
    "FFT_HOP = FFT_WIN/8 # FFT_HOP*samplerate = n of audio frames between successive ffts\n",
    "FMAX = SR/2"
   ]
  },
  {
   "cell_type": "code",
   "execution_count": null,
   "metadata": {},
   "outputs": [],
   "source": [
    "spec_df['sound_id'] = [x[:-4] for x in spec_df.wav]"
   ]
  },
  {
   "cell_type": "code",
   "execution_count": null,
   "metadata": {},
   "outputs": [],
   "source": [
    "image_data = {}\n",
    "\n",
    "for i,dat in enumerate(spec_df.ampli_specs):\n",
    "    print('\\rProcessing i:',i, end='')    \n",
    "    plt.figure()\n",
    "    librosa.display.specshow(dat, x_axis='time', y_axis='linear', sr=SR, hop_length=FFT_HOP*SR)\n",
    "    buf = io.BytesIO()\n",
    "    plt.savefig(buf, format='png')\n",
    "    byte_im = buf.getvalue()\n",
    "    image_data[spec_df.iloc[i]['sound_id']] = byte_im\n",
    "    plt.close()"
   ]
  },
  {
   "cell_type": "code",
   "execution_count": null,
   "metadata": {},
   "outputs": [],
   "source": [
    "os.chdir(DATA_FOLDER)\n",
    "\n",
    "with open('image_data_reef_ampli_03_2021.pickle', 'wb') as handle:\n",
    "    pickle.dump(image_data, handle, protocol=pickle.HIGHEST_PROTOCOL)"
   ]
  },
  {
   "cell_type": "code",
   "execution_count": 13,
   "metadata": {},
   "outputs": [],
   "source": [
    "with open(DATA_FOLDER+'image_data_reef_ampli_03_2021.pickle', 'rb') as handle:\n",
    "    image_data = pickle.load(handle)"
   ]
  },
  {
   "cell_type": "code",
   "execution_count": 14,
   "metadata": {},
   "outputs": [
    {
     "data": {
      "text/plain": [
       "4038"
      ]
     },
     "execution_count": 14,
     "metadata": {},
     "output_type": "execute_result"
    }
   ],
   "source": [
    "len(image_data)"
   ]
  },
  {
   "cell_type": "code",
   "execution_count": 20,
   "metadata": {},
   "outputs": [],
   "source": [
    "all_ids = list(image_data.keys())"
   ]
  },
  {
   "cell_type": "code",
   "execution_count": 21,
   "metadata": {},
   "outputs": [],
   "source": [
    "ids_1 = all_ids[:2000]\n",
    "ids_2 = all_ids[2000:]"
   ]
  },
  {
   "cell_type": "code",
   "execution_count": 23,
   "metadata": {},
   "outputs": [],
   "source": [
    "image_data_1 = {}\n",
    "image_data_2 = {}\n",
    "\n",
    "for my_id in ids_1:\n",
    "    image_data_1[my_id] = image_data[my_id]\n",
    "for my_id in ids_2:\n",
    "    image_data_2[my_id] = image_data[my_id]"
   ]
  },
  {
   "cell_type": "code",
   "execution_count": 24,
   "metadata": {},
   "outputs": [],
   "source": [
    "os.chdir(DATA_FOLDER)\n",
    "\n",
    "with open('img_data_1.pickle', 'wb') as handle:\n",
    "    pickle.dump(image_data_1, handle, protocol=pickle.HIGHEST_PROTOCOL)\n",
    "with open('img_data_2.pickle', 'wb') as handle:\n",
    "    pickle.dump(image_data_2, handle, protocol=pickle.HIGHEST_PROTOCOL)"
   ]
  },
  {
   "cell_type": "code",
   "execution_count": null,
   "metadata": {},
   "outputs": [],
   "source": []
  }
 ],
 "metadata": {
  "kernelspec": {
   "display_name": "Python 3",
   "language": "python",
   "name": "python3"
  },
  "language_info": {
   "codemirror_mode": {
    "name": "ipython",
    "version": 3
   },
   "file_extension": ".py",
   "mimetype": "text/x-python",
   "name": "python",
   "nbconvert_exporter": "python",
   "pygments_lexer": "ipython3",
   "version": "3.7.4"
  }
 },
 "nbformat": 4,
 "nbformat_minor": 2
}
